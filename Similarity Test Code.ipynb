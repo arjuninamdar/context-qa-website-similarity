{
 "cells": [
  {
   "cell_type": "code",
   "execution_count": null,
   "id": "60d29dd6",
   "metadata": {},
   "outputs": [],
   "source": [
    "import pandas as pd\n",
    "import numpy as np\n",
    "from sklearn.metrics.pairwise import cosine_similarity\n",
    "from bs4 import BeautifulSoup, Tag\n",
    "from sentence_transformers import SentenceTransformer\n",
    "import os\n",
    "import re"
   ]
  },
  {
   "cell_type": "code",
   "execution_count": null,
   "id": "3859a1e5",
   "metadata": {},
   "outputs": [],
   "source": [
    "\n",
    "model = SentenceTransformer('all-MiniLM-L6-v2')\n",
    "\n",
    "sample_elements_data = pd.read_excel(\"./sample_data/Sample_Element_Comp.xlsx\")\n",
    "sample_old_soup = get_html_soup(\"./sample_data/oldpage.html\")\n",
    "sample_new_soup = get_html_soup(\"./sample_data/newpage.html\")\n"
   ]
  },
  {
   "cell_type": "markdown",
   "id": "21be41fa",
   "metadata": {},
   "source": [
    "# This script is used to retrieve the individual HTMLs as Beautiful Soup files"
   ]
  },
  {
   "cell_type": "code",
   "execution_count": null,
   "id": "2706b184",
   "metadata": {},
   "outputs": [],
   "source": [
    "def get_html_soup(file_path):\n",
    "    try:\n",
    "        with open(file_path, 'r', encoding='utf-8') as file:\n",
    "            content = file.read()\n",
    "            soup = BeautifulSoup(content, 'html.parser')\n",
    "            return soup\n",
    "    except FileNotFoundError:\n",
    "        print(f\"File {file_path} not found.\")\n",
    "        return None"
   ]
  },
  {
   "cell_type": "markdown",
   "id": "304fae05",
   "metadata": {},
   "source": [
    "# All the SOUP Codes"
   ]
  },
  {
   "cell_type": "code",
   "execution_count": null,
   "id": "df890bcf",
   "metadata": {},
   "outputs": [],
   "source": [
    "def find_elements_by_type(soup, element_type):\n",
    "    elements = soup.find_all(element_type)\n",
    "    return elements"
   ]
  },
  {
   "cell_type": "markdown",
   "id": "725a7428",
   "metadata": {},
   "source": [
    "# Excel Codes"
   ]
  },
  {
   "cell_type": "code",
   "execution_count": null,
   "id": "759987f4",
   "metadata": {},
   "outputs": [],
   "source": [
    "def write_to_path(df, file_path, excel_file_name, excel_sheet_name): \n",
    "    excel_file_path = file_path + excel_file_name\n",
    "    excel_writer = None\n",
    "    \n",
    "    if os.path.isfile(excel_file_path):\n",
    "        excel_writer = pd.ExcelWriter(excel_file_path, engine=\"openpyxl\", mode='a')\n",
    "    else:\n",
    "        excel_writer = pd.ExcelWriter(excel_file_path, engine=\"openpyxl\")\n",
    "        \n",
    "    df.to_excel(excel_writer, sheet_name=str(excel_sheet_name), index=False, encoding=\"utf-8\")\n",
    "    excel_writer.save()"
   ]
  },
  {
   "cell_type": "markdown",
   "id": "0d179973",
   "metadata": {},
   "source": [
    "# This code finds the Jaccard index amongst the attribute sets"
   ]
  },
  {
   "cell_type": "code",
   "execution_count": null,
   "id": "2614f645",
   "metadata": {},
   "outputs": [],
   "source": [
    "def jaccard_index_of_attribute_set(elem1, elem2): \n",
    "    attr1 = set(elem1.attrs.keys())\n",
    "    attr2 = set(elem2.attrs.keys())\n",
    "    \n",
    "    intersection_size = len(attr1 & attr2)\n",
    "    union = len(attr1.union(attr2))\n",
    "    \n",
    "    if(union == 0):\n",
    "        return 1\n",
    "    \n",
    "    return (intersection_size/union)\n",
    "    \n",
    "    "
   ]
  },
  {
   "cell_type": "markdown",
   "id": "365a0837",
   "metadata": {},
   "source": [
    "# This code finds the cosine similarity amongst each of the shared elements' attributes"
   ]
  },
  {
   "cell_type": "code",
   "execution_count": null,
   "id": "a7a77343",
   "metadata": {},
   "outputs": [],
   "source": [
    "def get_cos_sim_attributes(elem1, elem2): \n",
    "    attr1 = elem1.attrs\n",
    "    attr2 = elem2.attrs\n",
    "    \n",
    "    intersection = set(attr1.keys()) & set(attr2.keys())\n",
    "    \n",
    "    cos_sims = {}\n",
    "\n",
    "    \n",
    "    for attr_name in intersection: \n",
    "        enc_attr_1 = attr1[attr_name]\n",
    "        enc_attr_2 = attr2[attr_name]\n",
    "        \n",
    "        if(isinstance(enc_attr_1, list)):\n",
    "            enc_attr_1 = \" \".join(attr1[attr_name])\n",
    "        \n",
    "        if(isinstance(enc_attr_2, list)):\n",
    "            enc_attr_2 = \" \".join(attr2[attr_name])\n",
    "        \n",
    "        if((len(enc_attr_1) == 0 and len(enc_attr_2) != 0) or (len(enc_attr_1) != 0 and len(enc_attr_2) == 0)):\n",
    "            continue\n",
    " \n",
    "        enc1 = model.encode(enc_attr_1).reshape(1, -1)\n",
    "        enc2 = model.encode(enc_attr_2).reshape(1, -1)\n",
    "        \n",
    "        \n",
    "        cos_sims[attr_name] = [cosine_similarity(enc1, enc2)[0][0]]\n",
    "\n",
    "            \n",
    "            \n",
    "    return cos_sims\n",
    "    "
   ]
  },
  {
   "cell_type": "markdown",
   "id": "92c723af",
   "metadata": {},
   "source": [
    "# This gets the cosine similarity of tall the conents"
   ]
  },
  {
   "cell_type": "code",
   "execution_count": null,
   "id": "5b10d02d",
   "metadata": {},
   "outputs": [],
   "source": [
    "def get_cos_sim_contents(elem1, elem2): \n",
    "    arr_elem1 = [str(element).replace('\\n', '') for element in elem1 if not None and str(element) != \"\\n\"]\n",
    "    arr_elem2 = [str(element).replace('\\n', '') for element in elem2 if not None and str(element) != \"\\n\"]\n",
    "\n",
    "    if(len(arr_elem1) == 0 and len(arr_elem2) == 0):\n",
    "        return 1\n",
    "    elif(len(arr_elem1) == 0 or len(arr_elem2) == 0):\n",
    "        return None\n",
    "    \n",
    "    enc1 = model.encode(arr_elem1)\n",
    "    enc2 = model.encode(arr_elem2)\n",
    "    \n",
    "    return cosine_similarity(enc1, enc2)[0][0]"
   ]
  },
  {
   "cell_type": "markdown",
   "id": "6ddbe09a",
   "metadata": {},
   "source": [
    " # This is the function which generates the data given a single website excel"
   ]
  },
  {
   "cell_type": "code",
   "execution_count": null,
   "id": "cda10ff5",
   "metadata": {},
   "outputs": [],
   "source": [
    "def run_test_on_web(old_soup, new_soup, elements_data, file_path):\n",
    "    curr_sheet_id = 1\n",
    "    \n",
    "    for index, row in elements_data.iterrows():\n",
    "        old_target_elem_arr = old_soup.find_all(attrs={row[1]: row[0]})\n",
    "        \n",
    "        if(len(old_target_elem_arr) == 0):\n",
    "            msg = f\"{curr_sheet_id}: UNABLE TO FIND ELEMENT ON WEBSITE\\nELEM NAME: {row[0]}\\nELEM DATA: {row[1]}\\n\\n\"\n",
    "            print(msg)\n",
    "            with open(file_path + 'info.txt', 'a') as f:\n",
    "                f.write(msg)\n",
    "            curr_sheet_id += 1\n",
    "            continue\n",
    "           \n",
    "        old_target_elem = old_target_elem_arr[0]\n",
    "        new_elem_arr = new_soup.find_all(old_target_elem.name)\n",
    "\n",
    "\n",
    "        df_jaccard = pd.DataFrame({\"Element\": [], \"Jaccard Index\": []})\n",
    "        df_cosine_content = pd.DataFrame({\"Element\": [], \"Content Cosine Similarity\": []})\n",
    "        df_cosine_attr = pd.DataFrame({\"Element\": []})\n",
    "\n",
    "\n",
    "        for new_elem in new_elem_arr:\n",
    "            new_jaccard_row = pd.DataFrame({\"Element\": [str(new_elem)], \"Jaccard Index\": [jaccard_index_of_attribute_set(old_target_elem, new_elem)]})\n",
    "            df_jaccard = pd.concat([df_jaccard, new_jaccard_row], ignore_index=True)\n",
    "\n",
    "            new_cos_content_row = pd.DataFrame(({\"Element\": [str(new_elem)], \"Content Cosine Similarity\": [get_cos_sim_contents(old_target_elem, new_elem)]}))\n",
    "            df_cosine_content = pd.concat([df_cosine_content, new_cos_content_row], ignore_index=True)\n",
    "            \n",
    "            \n",
    "            new_cosine_attr_dict = get_cos_sim_attributes(old_target_elem, new_elem)\n",
    "            new_cosine_attr_dict[\"Element\"] = str(new_elem)\n",
    "            \n",
    "            new_cosine_attr = pd.DataFrame(new_cosine_attr_dict, index=[1])\n",
    "            df_cosine_attr = pd.concat([df_cosine_attr, new_cosine_attr], ignore_index=True)\n",
    "        \n",
    "        # FILL ALL NaN (when one cos is 0) with NaN\n",
    "        df_cosine_attr = df_cosine_attr.fillna('NaN')\n",
    "        df_jaccard = df_jaccard.fillna('NaN')\n",
    "        df_cosine_content = df_cosine_content.fillna('NaN')\n",
    "        \n",
    "        write_to_path(df_cosine_attr, file_path, \"COSINE_ATTR.xlsx\", curr_sheet_id)\n",
    "        write_to_path(df_jaccard, file_path, \"JACCARD.xlsx\", curr_sheet_id) \n",
    "        write_to_path(df_cosine_content, file_path, \"COSINE_CONTENT.xlsx\", curr_sheet_id)\n",
    "                \n",
    "        with open(file_path + 'info.txt', 'a') as f:\n",
    "            f.write(f\"{curr_sheet_id}: {str(old_target_elem)}\\n\")\n",
    "        \n",
    "        curr_sheet_id += 1\n",
    "        "
   ]
  },
  {
   "cell_type": "markdown",
   "id": "18612ee9",
   "metadata": {},
   "source": [
    "# Actual code below"
   ]
  },
  {
   "cell_type": "code",
   "execution_count": null,
   "id": "9c326420",
   "metadata": {},
   "outputs": [],
   "source": [
    "subdirectories = [subdir for subdir in os.listdir(\"./Data\") if os.path.isdir(os.path.join(\"./Data\", subdir))]\n",
    "\n",
    "\n",
    "for web in subdirectories:\n",
    "    file_path = f\"./Data/{web}/\"\n",
    "    \n",
    "    \n",
    "    with open(file_path + \"old.html\", \"r\", encoding=\"utf-8\") as html_file:\n",
    "        old_html_content = html_file.read()\n",
    "        \n",
    "    old_soup = BeautifulSoup(old_html_content, \"html.parser\")\n",
    "    \n",
    "    \n",
    "    with open(file_path + \"new.html\", \"r\", encoding=\"utf-8\") as html_file:\n",
    "        new_html_content = html_file.read()\n",
    "        \n",
    "    new_soup = BeautifulSoup(new_html_content, \"html.parser\")\n",
    "    \n",
    "    elements_data = pd.read_excel(\"./Web Element Data.xlsx\", sheet_name=web)\n",
    "    \n",
    "    \n",
    "    print(f\"Running {web}\")\n",
    "    run_test_on_web(old_soup, new_soup, elements_data, file_path)\n",
    "    print(\"Finished!\\n\\n\")\n",
    "    \n",
    "    \n",
    "\n",
    "print(\"DONE!\")"
   ]
  }
 ],
 "metadata": {
  "kernelspec": {
   "display_name": "Python 3 (ipykernel)",
   "language": "python",
   "name": "python3"
  },
  "language_info": {
   "codemirror_mode": {
    "name": "ipython",
    "version": 3
   },
   "file_extension": ".py",
   "mimetype": "text/x-python",
   "name": "python",
   "nbconvert_exporter": "python",
   "pygments_lexer": "ipython3",
   "version": "3.11.3"
  }
 },
 "nbformat": 4,
 "nbformat_minor": 5
}
